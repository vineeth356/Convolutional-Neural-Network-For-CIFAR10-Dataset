{
  "nbformat": 4,
  "nbformat_minor": 0,
  "metadata": {
    "colab": {
      "name": "cifar10_improved.ipynb",
      "provenance": []
    },
    "kernelspec": {
      "name": "python3",
      "display_name": "Python 3"
    },
    "accelerator": "GPU"
  },
  "cells": [
    {
      "cell_type": "code",
      "metadata": {
        "id": "cFqkO5lNch7X",
        "colab_type": "code",
        "colab": {
          "base_uri": "https://localhost:8080/",
          "height": 119
        },
        "outputId": "3bcce19d-4961-4ce1-800c-99eb8e6b067a"
      },
      "source": [
        "# Install TensorFlow\n",
        "# !pip install -q tensorflow-gpu==2.0.0-beta1\n",
        "\n",
        "try:\n",
        "  %tensorflow_version 2.x  # Colab only.\n",
        "except Exception:\n",
        "  pass\n",
        "\n",
        "import tensorflow as tf\n",
        "print(tf.__version__)"
      ],
      "execution_count": 1,
      "outputs": [
        {
          "output_type": "stream",
          "text": [
            "`%tensorflow_version` only switches the major version: 1.x or 2.x.\n",
            "You set: `2.x  # Colab only.`. This will be interpreted as: `2.x`.\n",
            "\n",
            "\n",
            "TensorFlow 2.x selected.\n",
            "2.2.0\n"
          ],
          "name": "stdout"
        }
      ]
    },
    {
      "cell_type": "code",
      "metadata": {
        "id": "XFPp9EB4cvFj",
        "colab_type": "code",
        "colab": {}
      },
      "source": [
        "# additional imports\n",
        "\n",
        "import numpy as np\n",
        "import matplotlib.pyplot as plt\n",
        "from tensorflow.keras.layers import Input, Conv2D, Dense, Flatten, Dropout, GlobalMaxPooling2D, MaxPooling2D, BatchNormalization\n",
        "from tensorflow.keras.models import Model"
      ],
      "execution_count": 0,
      "outputs": []
    },
    {
      "cell_type": "code",
      "metadata": {
        "id": "L8uADyemc0ka",
        "colab_type": "code",
        "colab": {
          "base_uri": "https://localhost:8080/",
          "height": 85
        },
        "outputId": "6a0d2f98-848f-45c0-87c9-66492effabb4"
      },
      "source": [
        "# Load in the data\n",
        "cifar10 = tf.keras.datasets.cifar10\n",
        "\n",
        "(x_train, y_train), (x_test, y_test) = cifar10.load_data()\n",
        "x_train, x_test = x_train / 255.0, x_test / 255.0\n",
        "y_train, y_test = y_train.flatten(), y_test.flatten()\n",
        "print(\"x_train.shape:\", x_train.shape)\n",
        "print(\"y_train.shape\", y_train.shape)"
      ],
      "execution_count": 3,
      "outputs": [
        {
          "output_type": "stream",
          "text": [
            "Downloading data from https://www.cs.toronto.edu/~kriz/cifar-10-python.tar.gz\n",
            "170500096/170498071 [==============================] - 4s 0us/step\n",
            "x_train.shape: (50000, 32, 32, 3)\n",
            "y_train.shape (50000,)\n"
          ],
          "name": "stdout"
        }
      ]
    },
    {
      "cell_type": "code",
      "metadata": {
        "id": "p_TF8aYuc4fb",
        "colab_type": "code",
        "colab": {
          "base_uri": "https://localhost:8080/",
          "height": 34
        },
        "outputId": "f3e81493-cb43-4ec2-c9cf-4ac495deed84"
      },
      "source": [
        "# number of classes\n",
        "K = len(set(y_train))\n",
        "print(\"number of classes:\", K)"
      ],
      "execution_count": 4,
      "outputs": [
        {
          "output_type": "stream",
          "text": [
            "number of classes: 10\n"
          ],
          "name": "stdout"
        }
      ]
    },
    {
      "cell_type": "code",
      "metadata": {
        "id": "3tDcz_Stc-_S",
        "colab_type": "code",
        "colab": {}
      },
      "source": [
        "# Build the model using the functional API\n",
        "i = Input(shape=x_train[0].shape)\n",
        "# x = Conv2D(32, (3, 3), strides=2, activation='relu')(i)\n",
        "# x = Conv2D(64, (3, 3), strides=2, activation='relu')(x)\n",
        "# x = Conv2D(128, (3, 3), strides=2, activation='relu')(x)\n",
        "\n",
        "x = Conv2D(32, (3, 3), activation='relu', padding='same')(i)\n",
        "x = BatchNormalization()(x)\n",
        "x = Conv2D(32, (3, 3), activation='relu', padding='same')(x)\n",
        "x = BatchNormalization()(x)\n",
        "x = MaxPooling2D((2, 2))(x)\n",
        "# x = Dropout(0.2)(x)\n",
        "x = Conv2D(64, (3, 3), activation='relu', padding='same')(x)\n",
        "x = BatchNormalization()(x)\n",
        "x = Conv2D(64, (3, 3), activation='relu', padding='same')(x)\n",
        "x = BatchNormalization()(x)\n",
        "x = MaxPooling2D((2, 2))(x)\n",
        "# x = Dropout(0.2)(x)\n",
        "x = Conv2D(128, (3, 3), activation='relu', padding='same')(x)\n",
        "x = BatchNormalization()(x)\n",
        "x = Conv2D(128, (3, 3), activation='relu', padding='same')(x)\n",
        "x = BatchNormalization()(x)\n",
        "x = MaxPooling2D((2, 2))(x)\n",
        "# x = Dropout(0.2)(x)\n",
        "\n",
        "# x = GlobalMaxPooling2D()(x)\n",
        "x = Flatten()(x)\n",
        "x = Dropout(0.2)(x)\n",
        "x = Dense(1024, activation='relu')(x)\n",
        "x = Dropout(0.2)(x)\n",
        "x = Dense(K, activation='softmax')(x)\n",
        "\n",
        "model = Model(i, x)"
      ],
      "execution_count": 0,
      "outputs": []
    },
    {
      "cell_type": "code",
      "metadata": {
        "id": "4xIPhEdjdHi6",
        "colab_type": "code",
        "colab": {}
      },
      "source": [
        "# Compile\n",
        "# Note: make sure you are using the GPU for this!\n",
        "model.compile(optimizer='adam',\n",
        "              loss='sparse_categorical_crossentropy',\n",
        "              metrics=['accuracy'])"
      ],
      "execution_count": 0,
      "outputs": []
    },
    {
      "cell_type": "code",
      "metadata": {
        "id": "5cidbpiydOTY",
        "colab_type": "code",
        "colab": {
          "base_uri": "https://localhost:8080/",
          "height": 1000
        },
        "outputId": "e64ff881-fbc7-4919-ceb6-1b9ef3dc9cad"
      },
      "source": [
        "# Fit\n",
        "r = model.fit(x_train, y_train, validation_data=(x_test, y_test), epochs=50)"
      ],
      "execution_count": 9,
      "outputs": [
        {
          "output_type": "stream",
          "text": [
            "Epoch 1/50\n",
            "1563/1563 [==============================] - 9s 6ms/step - loss: 1.2952 - accuracy: 0.5530 - val_loss: 1.0063 - val_accuracy: 0.6501\n",
            "Epoch 2/50\n",
            "1563/1563 [==============================] - 9s 6ms/step - loss: 0.8475 - accuracy: 0.7050 - val_loss: 0.8629 - val_accuracy: 0.7049\n",
            "Epoch 3/50\n",
            "1563/1563 [==============================] - 9s 6ms/step - loss: 0.6882 - accuracy: 0.7637 - val_loss: 0.7488 - val_accuracy: 0.7445\n",
            "Epoch 4/50\n",
            "1563/1563 [==============================] - 9s 6ms/step - loss: 0.5907 - accuracy: 0.7985 - val_loss: 0.8112 - val_accuracy: 0.7344\n",
            "Epoch 5/50\n",
            "1563/1563 [==============================] - 9s 6ms/step - loss: 0.4984 - accuracy: 0.8287 - val_loss: 0.9862 - val_accuracy: 0.6937\n",
            "Epoch 6/50\n",
            "1563/1563 [==============================] - 9s 6ms/step - loss: 0.4253 - accuracy: 0.8533 - val_loss: 0.7020 - val_accuracy: 0.7834\n",
            "Epoch 7/50\n",
            "1563/1563 [==============================] - 9s 6ms/step - loss: 0.3629 - accuracy: 0.8744 - val_loss: 0.6075 - val_accuracy: 0.8072\n",
            "Epoch 8/50\n",
            "1563/1563 [==============================] - 9s 6ms/step - loss: 0.3046 - accuracy: 0.8953 - val_loss: 0.5785 - val_accuracy: 0.8195\n",
            "Epoch 9/50\n",
            "1563/1563 [==============================] - 9s 6ms/step - loss: 0.2643 - accuracy: 0.9089 - val_loss: 0.7247 - val_accuracy: 0.7913\n",
            "Epoch 10/50\n",
            "1563/1563 [==============================] - 9s 6ms/step - loss: 0.2274 - accuracy: 0.9223 - val_loss: 0.6613 - val_accuracy: 0.8212\n",
            "Epoch 11/50\n",
            "1563/1563 [==============================] - 9s 6ms/step - loss: 0.1987 - accuracy: 0.9320 - val_loss: 0.6219 - val_accuracy: 0.8265\n",
            "Epoch 12/50\n",
            "1563/1563 [==============================] - 9s 6ms/step - loss: 0.1772 - accuracy: 0.9386 - val_loss: 0.6372 - val_accuracy: 0.8186\n",
            "Epoch 13/50\n",
            "1563/1563 [==============================] - 9s 6ms/step - loss: 0.1592 - accuracy: 0.9465 - val_loss: 0.6721 - val_accuracy: 0.8285\n",
            "Epoch 14/50\n",
            "1563/1563 [==============================] - 9s 6ms/step - loss: 0.1497 - accuracy: 0.9500 - val_loss: 0.7378 - val_accuracy: 0.8249\n",
            "Epoch 15/50\n",
            "1563/1563 [==============================] - 9s 6ms/step - loss: 0.1339 - accuracy: 0.9553 - val_loss: 0.7296 - val_accuracy: 0.8191\n",
            "Epoch 16/50\n",
            "1563/1563 [==============================] - 9s 6ms/step - loss: 0.1243 - accuracy: 0.9585 - val_loss: 0.7061 - val_accuracy: 0.8322\n",
            "Epoch 17/50\n",
            "1563/1563 [==============================] - 9s 6ms/step - loss: 0.1173 - accuracy: 0.9617 - val_loss: 0.7328 - val_accuracy: 0.8152\n",
            "Epoch 18/50\n",
            "1563/1563 [==============================] - 9s 6ms/step - loss: 0.1093 - accuracy: 0.9637 - val_loss: 0.7084 - val_accuracy: 0.8251\n",
            "Epoch 19/50\n",
            "1563/1563 [==============================] - 9s 6ms/step - loss: 0.1069 - accuracy: 0.9645 - val_loss: 0.7742 - val_accuracy: 0.8202\n",
            "Epoch 20/50\n",
            "1563/1563 [==============================] - 9s 6ms/step - loss: 0.0917 - accuracy: 0.9696 - val_loss: 0.7988 - val_accuracy: 0.8317\n",
            "Epoch 21/50\n",
            "1563/1563 [==============================] - 9s 6ms/step - loss: 0.0899 - accuracy: 0.9699 - val_loss: 0.7373 - val_accuracy: 0.8287\n",
            "Epoch 22/50\n",
            "1563/1563 [==============================] - 9s 6ms/step - loss: 0.0929 - accuracy: 0.9694 - val_loss: 0.7502 - val_accuracy: 0.8352\n",
            "Epoch 23/50\n",
            "1563/1563 [==============================] - 9s 6ms/step - loss: 0.0752 - accuracy: 0.9750 - val_loss: 0.7734 - val_accuracy: 0.8298\n",
            "Epoch 24/50\n",
            "1563/1563 [==============================] - 9s 6ms/step - loss: 0.0828 - accuracy: 0.9727 - val_loss: 0.7228 - val_accuracy: 0.8261\n",
            "Epoch 25/50\n",
            "1563/1563 [==============================] - 9s 6ms/step - loss: 0.0760 - accuracy: 0.9747 - val_loss: 0.7772 - val_accuracy: 0.8298\n",
            "Epoch 26/50\n",
            "1563/1563 [==============================] - 9s 6ms/step - loss: 0.0768 - accuracy: 0.9751 - val_loss: 0.7758 - val_accuracy: 0.8346\n",
            "Epoch 27/50\n",
            "1563/1563 [==============================] - 9s 6ms/step - loss: 0.0703 - accuracy: 0.9767 - val_loss: 0.8669 - val_accuracy: 0.8265\n",
            "Epoch 28/50\n",
            "1563/1563 [==============================] - 9s 6ms/step - loss: 0.0677 - accuracy: 0.9779 - val_loss: 0.8166 - val_accuracy: 0.8333\n",
            "Epoch 29/50\n",
            "1563/1563 [==============================] - 9s 6ms/step - loss: 0.0663 - accuracy: 0.9782 - val_loss: 0.8157 - val_accuracy: 0.8236\n",
            "Epoch 30/50\n",
            "1563/1563 [==============================] - 9s 6ms/step - loss: 0.0672 - accuracy: 0.9782 - val_loss: 0.8026 - val_accuracy: 0.8303\n",
            "Epoch 31/50\n",
            "1563/1563 [==============================] - 9s 6ms/step - loss: 0.0622 - accuracy: 0.9800 - val_loss: 0.8121 - val_accuracy: 0.8331\n",
            "Epoch 32/50\n",
            "1563/1563 [==============================] - 9s 6ms/step - loss: 0.0630 - accuracy: 0.9802 - val_loss: 0.8032 - val_accuracy: 0.8404\n",
            "Epoch 33/50\n",
            "1563/1563 [==============================] - 9s 6ms/step - loss: 0.0574 - accuracy: 0.9812 - val_loss: 0.8145 - val_accuracy: 0.8367\n",
            "Epoch 34/50\n",
            "1563/1563 [==============================] - 9s 6ms/step - loss: 0.0533 - accuracy: 0.9828 - val_loss: 0.8685 - val_accuracy: 0.8352\n",
            "Epoch 35/50\n",
            "1563/1563 [==============================] - 9s 6ms/step - loss: 0.0555 - accuracy: 0.9821 - val_loss: 0.8633 - val_accuracy: 0.8395\n",
            "Epoch 36/50\n",
            "1563/1563 [==============================] - 9s 6ms/step - loss: 0.0520 - accuracy: 0.9827 - val_loss: 0.9343 - val_accuracy: 0.8296\n",
            "Epoch 37/50\n",
            "1563/1563 [==============================] - 9s 6ms/step - loss: 0.0561 - accuracy: 0.9821 - val_loss: 0.8501 - val_accuracy: 0.8368\n",
            "Epoch 38/50\n",
            "1563/1563 [==============================] - 9s 6ms/step - loss: 0.0530 - accuracy: 0.9829 - val_loss: 0.8564 - val_accuracy: 0.8341\n",
            "Epoch 39/50\n",
            "1563/1563 [==============================] - 9s 6ms/step - loss: 0.0486 - accuracy: 0.9841 - val_loss: 0.8385 - val_accuracy: 0.8392\n",
            "Epoch 40/50\n",
            "1563/1563 [==============================] - 9s 6ms/step - loss: 0.0486 - accuracy: 0.9840 - val_loss: 0.7950 - val_accuracy: 0.8371\n",
            "Epoch 41/50\n",
            "1563/1563 [==============================] - 9s 6ms/step - loss: 0.0476 - accuracy: 0.9847 - val_loss: 0.8555 - val_accuracy: 0.8353\n",
            "Epoch 42/50\n",
            "1563/1563 [==============================] - 9s 6ms/step - loss: 0.0429 - accuracy: 0.9862 - val_loss: 0.8803 - val_accuracy: 0.8314\n",
            "Epoch 43/50\n",
            "1563/1563 [==============================] - 9s 6ms/step - loss: 0.0466 - accuracy: 0.9849 - val_loss: 0.8824 - val_accuracy: 0.8384\n",
            "Epoch 44/50\n",
            "1563/1563 [==============================] - 9s 6ms/step - loss: 0.0462 - accuracy: 0.9853 - val_loss: 0.9019 - val_accuracy: 0.8355\n",
            "Epoch 45/50\n",
            "1563/1563 [==============================] - 9s 6ms/step - loss: 0.0448 - accuracy: 0.9861 - val_loss: 0.8454 - val_accuracy: 0.8402\n",
            "Epoch 46/50\n",
            "1563/1563 [==============================] - 9s 6ms/step - loss: 0.0446 - accuracy: 0.9861 - val_loss: 0.8361 - val_accuracy: 0.8365\n",
            "Epoch 47/50\n",
            "1563/1563 [==============================] - 9s 6ms/step - loss: 0.0418 - accuracy: 0.9862 - val_loss: 0.9033 - val_accuracy: 0.8411\n",
            "Epoch 48/50\n",
            "1563/1563 [==============================] - 9s 6ms/step - loss: 0.0455 - accuracy: 0.9855 - val_loss: 0.8615 - val_accuracy: 0.8499\n",
            "Epoch 49/50\n",
            "1563/1563 [==============================] - 9s 6ms/step - loss: 0.0372 - accuracy: 0.9881 - val_loss: 0.9388 - val_accuracy: 0.8493\n",
            "Epoch 50/50\n",
            "1563/1563 [==============================] - 9s 6ms/step - loss: 0.0419 - accuracy: 0.9863 - val_loss: 0.8935 - val_accuracy: 0.8313\n"
          ],
          "name": "stdout"
        }
      ]
    },
    {
      "cell_type": "code",
      "metadata": {
        "id": "fheoubG7d52w",
        "colab_type": "code",
        "colab": {
          "base_uri": "https://localhost:8080/",
          "height": 1000
        },
        "outputId": "70910b08-d128-4740-b00a-3d2dc051e718"
      },
      "source": [
        "# Fit with data augmentation\n",
        "# Note: if you run this AFTER calling the previous model.fit(), it will CONTINUE training where it left off\n",
        "\n",
        "batch_size =32\n",
        "data_generator = tf.keras.preprocessing.image.ImageDataGenerator(width_shift_range=0.1,height_shift_range=0.1,horizontal_flip=True)\n",
        "train_generator = data_generator.flow(x_train,y_train,batch_size)\n",
        "steps_per_epoch = x_train.shape[0]//batch_size\n",
        "r = model.fit(train_generator,validation_data=(x_test,y_test),steps_per_epoch=steps_per_epoch,epochs=50)"
      ],
      "execution_count": 10,
      "outputs": [
        {
          "output_type": "stream",
          "text": [
            "Epoch 1/50\n",
            "1562/1562 [==============================] - 24s 15ms/step - loss: 0.5406 - accuracy: 0.8296 - val_loss: 0.5053 - val_accuracy: 0.8386\n",
            "Epoch 2/50\n",
            "1562/1562 [==============================] - 24s 15ms/step - loss: 0.4354 - accuracy: 0.8536 - val_loss: 0.4724 - val_accuracy: 0.8506\n",
            "Epoch 3/50\n",
            "1562/1562 [==============================] - 24s 15ms/step - loss: 0.4015 - accuracy: 0.8660 - val_loss: 0.5328 - val_accuracy: 0.8379\n",
            "Epoch 4/50\n",
            "1562/1562 [==============================] - 24s 15ms/step - loss: 0.3824 - accuracy: 0.8736 - val_loss: 0.4647 - val_accuracy: 0.8507\n",
            "Epoch 5/50\n",
            "1562/1562 [==============================] - 24s 15ms/step - loss: 0.3605 - accuracy: 0.8782 - val_loss: 0.4290 - val_accuracy: 0.8564\n",
            "Epoch 6/50\n",
            "1562/1562 [==============================] - 24s 15ms/step - loss: 0.3485 - accuracy: 0.8847 - val_loss: 0.4158 - val_accuracy: 0.8592\n",
            "Epoch 7/50\n",
            "1562/1562 [==============================] - 23s 15ms/step - loss: 0.3377 - accuracy: 0.8852 - val_loss: 0.4806 - val_accuracy: 0.8436\n",
            "Epoch 8/50\n",
            "1562/1562 [==============================] - 24s 15ms/step - loss: 0.3228 - accuracy: 0.8909 - val_loss: 0.4261 - val_accuracy: 0.8646\n",
            "Epoch 9/50\n",
            "1562/1562 [==============================] - 24s 15ms/step - loss: 0.3138 - accuracy: 0.8944 - val_loss: 0.4112 - val_accuracy: 0.8648\n",
            "Epoch 10/50\n",
            "1562/1562 [==============================] - 24s 15ms/step - loss: 0.3003 - accuracy: 0.9000 - val_loss: 0.3995 - val_accuracy: 0.8668\n",
            "Epoch 11/50\n",
            "1562/1562 [==============================] - 24s 15ms/step - loss: 0.2936 - accuracy: 0.9000 - val_loss: 0.4164 - val_accuracy: 0.8660\n",
            "Epoch 12/50\n",
            "1562/1562 [==============================] - 24s 15ms/step - loss: 0.2865 - accuracy: 0.9025 - val_loss: 0.4130 - val_accuracy: 0.8640\n",
            "Epoch 13/50\n",
            "1562/1562 [==============================] - 24s 15ms/step - loss: 0.2768 - accuracy: 0.9062 - val_loss: 0.4261 - val_accuracy: 0.8611\n",
            "Epoch 14/50\n",
            "1562/1562 [==============================] - 24s 15ms/step - loss: 0.2715 - accuracy: 0.9071 - val_loss: 0.4053 - val_accuracy: 0.8719\n",
            "Epoch 15/50\n",
            "1562/1562 [==============================] - 24s 15ms/step - loss: 0.2668 - accuracy: 0.9098 - val_loss: 0.4023 - val_accuracy: 0.8707\n",
            "Epoch 16/50\n",
            "1562/1562 [==============================] - 23s 15ms/step - loss: 0.2621 - accuracy: 0.9108 - val_loss: 0.4481 - val_accuracy: 0.8672\n",
            "Epoch 17/50\n",
            "1562/1562 [==============================] - 23s 15ms/step - loss: 0.2547 - accuracy: 0.9133 - val_loss: 0.4939 - val_accuracy: 0.8535\n",
            "Epoch 18/50\n",
            "1562/1562 [==============================] - 23s 15ms/step - loss: 0.2477 - accuracy: 0.9150 - val_loss: 0.4131 - val_accuracy: 0.8739\n",
            "Epoch 19/50\n",
            "1562/1562 [==============================] - 24s 15ms/step - loss: 0.2411 - accuracy: 0.9176 - val_loss: 0.4109 - val_accuracy: 0.8697\n",
            "Epoch 20/50\n",
            "1562/1562 [==============================] - 24s 15ms/step - loss: 0.2370 - accuracy: 0.9196 - val_loss: 0.4669 - val_accuracy: 0.8583\n",
            "Epoch 21/50\n",
            "1562/1562 [==============================] - 23s 15ms/step - loss: 0.2345 - accuracy: 0.9209 - val_loss: 0.4288 - val_accuracy: 0.8688\n",
            "Epoch 22/50\n",
            "1562/1562 [==============================] - 24s 15ms/step - loss: 0.2289 - accuracy: 0.9219 - val_loss: 0.4530 - val_accuracy: 0.8637\n",
            "Epoch 23/50\n",
            "1562/1562 [==============================] - 24s 15ms/step - loss: 0.2254 - accuracy: 0.9223 - val_loss: 0.4554 - val_accuracy: 0.8637\n",
            "Epoch 24/50\n",
            "1562/1562 [==============================] - 24s 15ms/step - loss: 0.2244 - accuracy: 0.9243 - val_loss: 0.4111 - val_accuracy: 0.8773\n",
            "Epoch 25/50\n",
            "1562/1562 [==============================] - 24s 15ms/step - loss: 0.2197 - accuracy: 0.9267 - val_loss: 0.4100 - val_accuracy: 0.8786\n",
            "Epoch 26/50\n",
            "1562/1562 [==============================] - 24s 15ms/step - loss: 0.2153 - accuracy: 0.9266 - val_loss: 0.4485 - val_accuracy: 0.8723\n",
            "Epoch 27/50\n",
            "1562/1562 [==============================] - 24s 15ms/step - loss: 0.2122 - accuracy: 0.9290 - val_loss: 0.4131 - val_accuracy: 0.8751\n",
            "Epoch 28/50\n",
            "1562/1562 [==============================] - 24s 15ms/step - loss: 0.2052 - accuracy: 0.9306 - val_loss: 0.4047 - val_accuracy: 0.8771\n",
            "Epoch 29/50\n",
            "1562/1562 [==============================] - 24s 15ms/step - loss: 0.2093 - accuracy: 0.9295 - val_loss: 0.3969 - val_accuracy: 0.8819\n",
            "Epoch 30/50\n",
            "1562/1562 [==============================] - 23s 15ms/step - loss: 0.1987 - accuracy: 0.9316 - val_loss: 0.4483 - val_accuracy: 0.8700\n",
            "Epoch 31/50\n",
            "1562/1562 [==============================] - 23s 15ms/step - loss: 0.2048 - accuracy: 0.9295 - val_loss: 0.4591 - val_accuracy: 0.8717\n",
            "Epoch 32/50\n",
            "1562/1562 [==============================] - 24s 15ms/step - loss: 0.2001 - accuracy: 0.9330 - val_loss: 0.4526 - val_accuracy: 0.8760\n",
            "Epoch 33/50\n",
            "1562/1562 [==============================] - 24s 15ms/step - loss: 0.1923 - accuracy: 0.9341 - val_loss: 0.4067 - val_accuracy: 0.8784\n",
            "Epoch 34/50\n",
            "1562/1562 [==============================] - 24s 15ms/step - loss: 0.1907 - accuracy: 0.9362 - val_loss: 0.4487 - val_accuracy: 0.8776\n",
            "Epoch 35/50\n",
            "1562/1562 [==============================] - 23s 15ms/step - loss: 0.1890 - accuracy: 0.9364 - val_loss: 0.4202 - val_accuracy: 0.8740\n",
            "Epoch 36/50\n",
            "1562/1562 [==============================] - 24s 15ms/step - loss: 0.1867 - accuracy: 0.9364 - val_loss: 0.3849 - val_accuracy: 0.8787\n",
            "Epoch 37/50\n",
            "1562/1562 [==============================] - 24s 15ms/step - loss: 0.1884 - accuracy: 0.9365 - val_loss: 0.4344 - val_accuracy: 0.8837\n",
            "Epoch 38/50\n",
            "1562/1562 [==============================] - 24s 15ms/step - loss: 0.1831 - accuracy: 0.9380 - val_loss: 0.3887 - val_accuracy: 0.8818\n",
            "Epoch 39/50\n",
            "1562/1562 [==============================] - 24s 15ms/step - loss: 0.1806 - accuracy: 0.9383 - val_loss: 0.4539 - val_accuracy: 0.8765\n",
            "Epoch 40/50\n",
            "1562/1562 [==============================] - 24s 15ms/step - loss: 0.1829 - accuracy: 0.9373 - val_loss: 0.4149 - val_accuracy: 0.8886\n",
            "Epoch 41/50\n",
            "1562/1562 [==============================] - 24s 15ms/step - loss: 0.1793 - accuracy: 0.9400 - val_loss: 0.4047 - val_accuracy: 0.8853\n",
            "Epoch 42/50\n",
            "1562/1562 [==============================] - 23s 15ms/step - loss: 0.1777 - accuracy: 0.9395 - val_loss: 0.3904 - val_accuracy: 0.8809\n",
            "Epoch 43/50\n",
            "1562/1562 [==============================] - 24s 15ms/step - loss: 0.1691 - accuracy: 0.9427 - val_loss: 0.4737 - val_accuracy: 0.8816\n",
            "Epoch 44/50\n",
            "1562/1562 [==============================] - 23s 15ms/step - loss: 0.1719 - accuracy: 0.9416 - val_loss: 0.4172 - val_accuracy: 0.8797\n",
            "Epoch 45/50\n",
            "1562/1562 [==============================] - 24s 15ms/step - loss: 0.1716 - accuracy: 0.9415 - val_loss: 0.4074 - val_accuracy: 0.8815\n",
            "Epoch 46/50\n",
            "1562/1562 [==============================] - 24s 15ms/step - loss: 0.1720 - accuracy: 0.9412 - val_loss: 0.3913 - val_accuracy: 0.8871\n",
            "Epoch 47/50\n",
            "1562/1562 [==============================] - 23s 15ms/step - loss: 0.1658 - accuracy: 0.9440 - val_loss: 0.3947 - val_accuracy: 0.8875\n",
            "Epoch 48/50\n",
            "1562/1562 [==============================] - 23s 15ms/step - loss: 0.1650 - accuracy: 0.9434 - val_loss: 0.4085 - val_accuracy: 0.8909\n",
            "Epoch 49/50\n",
            "1562/1562 [==============================] - 24s 15ms/step - loss: 0.1667 - accuracy: 0.9433 - val_loss: 0.3998 - val_accuracy: 0.8807\n",
            "Epoch 50/50\n",
            "1562/1562 [==============================] - 23s 15ms/step - loss: 0.1622 - accuracy: 0.9450 - val_loss: 0.4280 - val_accuracy: 0.8837\n"
          ],
          "name": "stdout"
        }
      ]
    },
    {
      "cell_type": "code",
      "metadata": {
        "id": "jlePRvI2gzTL",
        "colab_type": "code",
        "colab": {
          "base_uri": "https://localhost:8080/",
          "height": 282
        },
        "outputId": "8c780783-47f2-4af6-d9db-2e5836b60c04"
      },
      "source": [
        "# Plot loss per iteration\n",
        "import matplotlib.pyplot as plt\n",
        "plt.plot(r.history['loss'], label='loss')\n",
        "plt.plot(r.history['val_loss'], label='val_loss')\n",
        "plt.legend()"
      ],
      "execution_count": 11,
      "outputs": [
        {
          "output_type": "execute_result",
          "data": {
            "text/plain": [
              "<matplotlib.legend.Legend at 0x7f5ebad32160>"
            ]
          },
          "metadata": {
            "tags": []
          },
          "execution_count": 11
        },
        {
          "output_type": "display_data",
          "data": {
            "image/png": "[encoded data removed]",
            "text/plain": [
              "<Figure size 432x288 with 1 Axes>"
            ]
          },
          "metadata": {
            "tags": [],
            "needs_background": "light"
          }
        }
      ]
    },
    {
      "cell_type": "code",
      "metadata": {
        "id": "6Zoff4d0lg0G",
        "colab_type": "code",
        "colab": {
          "base_uri": "https://localhost:8080/",
          "height": 282
        },
        "outputId": "86b2e65b-165f-47c2-8a94-1cf9a8a39484"
      },
      "source": [
        "# Plot accuracy per iteration\n",
        "plt.plot(r.history['accuracy'], label='acc')\n",
        "plt.plot(r.history['val_accuracy'], label='val_acc')\n",
        "plt.legend()"
      ],
      "execution_count": 12,
      "outputs": [
        {
          "output_type": "execute_result",
          "data": {
            "text/plain": [
              "<matplotlib.legend.Legend at 0x7f5ebaccdeb8>"
            ]
          },
          "metadata": {
            "tags": []
          },
          "execution_count": 12
        },
        {
          "output_type": "display_data",
          "data": {
            "image/png": "[encoded data removed]",
            "text/plain": [
              "<Figure size 432x288 with 1 Axes>"
            ]
          },
          "metadata": {
            "tags": [],
            "needs_background": "light"
          }
        }
      ]
    },
    {
      "cell_type": "code",
      "metadata": {
        "id": "Suk-IYsrloZN",
        "colab_type": "code",
        "colab": {
          "base_uri": "https://localhost:8080/",
          "height": 498
        },
        "outputId": "c2d8d672-f927-4c34-b589-a297d65cbad8"
      },
      "source": [
        "# Plot confusion matrix\n",
        "from sklearn.metrics import confusion_matrix\n",
        "import itertools\n",
        "\n",
        "def plot_confusion_matrix(cm, classes,\n",
        "                          normalize=False,\n",
        "                          title='Confusion matrix',\n",
        "                          cmap=plt.cm.Blues):\n",
        "  \"\"\"\n",
        "  This function prints and plots the confusion matrix.\n",
        "  Normalization can be applied by setting `normalize=True`.\n",
        "  \"\"\"\n",
        "  if normalize:\n",
        "      cm = cm.astype('float') / cm.sum(axis=1)[:, np.newaxis]\n",
        "      print(\"Normalized confusion matrix\")\n",
        "  else:\n",
        "      print('Confusion matrix, without normalization')\n",
        "\n",
        "  print(cm)\n",
        "\n",
        "  plt.imshow(cm, interpolation='nearest', cmap=cmap)\n",
        "  plt.title(title)\n",
        "  plt.colorbar()\n",
        "  tick_marks = np.arange(len(classes))\n",
        "  plt.xticks(tick_marks, classes, rotation=45)\n",
        "  plt.yticks(tick_marks, classes)\n",
        "\n",
        "  fmt = '.2f' if normalize else 'd'\n",
        "  thresh = cm.max() / 2.\n",
        "  for i, j in itertools.product(range(cm.shape[0]), range(cm.shape[1])):\n",
        "      plt.text(j, i, format(cm[i, j], fmt),\n",
        "               horizontalalignment=\"center\",\n",
        "               color=\"white\" if cm[i, j] > thresh else \"black\")\n",
        "\n",
        "  plt.tight_layout()\n",
        "  plt.ylabel('True label')\n",
        "  plt.xlabel('Predicted label')\n",
        "  plt.show()\n",
        "\n",
        "\n",
        "p_test = model.predict(x_test).argmax(axis=1)\n",
        "cm = confusion_matrix(y_test, p_test)\n",
        "plot_confusion_matrix(cm, list(range(10)))\n",
        "\n"
      ],
      "execution_count": 13,
      "outputs": [
        {
          "output_type": "stream",
          "text": [
            "Confusion matrix, without normalization\n",
            "[[919  10  19   7   5   1   6   3  24   6]\n",
            " [  4 967   0   0   0   1   2   0   3  23]\n",
            " [ 40   1 826  24  26  26  38  11   2   6]\n",
            " [ 12   2  33 721  29 116  53  17   5  12]\n",
            " [  8   1  39  21 853  26  37  12   1   2]\n",
            " [  9   4  15  86  16 834  19  13   1   3]\n",
            " [  6   0  19  14   1   8 948   1   2   1]\n",
            " [  8   2   8  16  20  30   7 905   1   3]\n",
            " [ 29   7   2   7   2   2   1   0 938  12]\n",
            " [  9  44   1   3   0   0   1   2  14 926]]\n"
          ],
          "name": "stdout"
        },
        {
          "output_type": "display_data",
          "data": {
            "image/png": "[encoded data removed]",
            "text/plain": [
              "<Figure size 432x288 with 2 Axes>"
            ]
          },
          "metadata": {
            "tags": [],
            "needs_background": "light"
          }
        }
      ]
    },
    {
      "cell_type": "code",
      "metadata": {
        "id": "zulJnUpklrrx",
        "colab_type": "code",
        "colab": {}
      },
      "source": [
        "# label mapping\n",
        "labels = '''airplane\n",
        "automobile\n",
        "bird\n",
        "cat\n",
        "deer\n",
        "dog\n",
        "frog\n",
        "horse\n",
        "ship\n",
        "truck'''.split()"
      ],
      "execution_count": 0,
      "outputs": []
    },
    {
      "cell_type": "code",
      "metadata": {
        "id": "jLoMyhWblvvs",
        "colab_type": "code",
        "colab": {
          "base_uri": "https://localhost:8080/",
          "height": 281
        },
        "outputId": "fb0d9014-f9d4-40e7-bfee-db18e63b5ec5"
      },
      "source": [
        "# Show some misclassified examples\n",
        "misclassified_idx = np.where(p_test != y_test)[0]\n",
        "i = np.random.choice(misclassified_idx)\n",
        "plt.imshow(x_test[i], cmap='gray')\n",
        "plt.title(\"True label: %s Predicted: %s\" % (labels[y_test[i]], labels[p_test[i]]));"
      ],
      "execution_count": 16,
      "outputs": [
        {
          "output_type": "display_data",
          "data": {
            "image/png": "[encoded data removed]",
            "text/plain": [
              "<Figure size 432x288 with 1 Axes>"
            ]
          },
          "metadata": {
            "tags": [],
            "needs_background": "light"
          }
        }
      ]
    },
    {
      "cell_type": "code",
      "metadata": {
        "id": "dY8VsaYwlyHL",
        "colab_type": "code",
        "colab": {
          "base_uri": "https://localhost:8080/",
          "height": 867
        },
        "outputId": "41cf65de-6cbe-4c90-c50e-d48774418d18"
      },
      "source": [
        "# Now that the model is so large, it's useful to summarize it\n",
        "model.summary()"
      ],
      "execution_count": 17,
      "outputs": [
        {
          "output_type": "stream",
          "text": [
            "Model: \"model\"\n",
            "_________________________________________________________________\n",
            "Layer (type)                 Output Shape              Param #   \n",
            "=================================================================\n",
            "input_1 (InputLayer)         [(None, 32, 32, 3)]       0         \n",
            "_________________________________________________________________\n",
            "conv2d (Conv2D)              (None, 32, 32, 32)        896       \n",
            "_________________________________________________________________\n",
            "batch_normalization (BatchNo (None, 32, 32, 32)        128       \n",
            "_________________________________________________________________\n",
            "conv2d_1 (Conv2D)            (None, 32, 32, 32)        9248      \n",
            "_________________________________________________________________\n",
            "batch_normalization_1 (Batch (None, 32, 32, 32)        128       \n",
            "_________________________________________________________________\n",
            "max_pooling2d (MaxPooling2D) (None, 16, 16, 32)        0         \n",
            "_________________________________________________________________\n",
            "conv2d_2 (Conv2D)            (None, 16, 16, 64)        18496     \n",
            "_________________________________________________________________\n",
            "batch_normalization_2 (Batch (None, 16, 16, 64)        256       \n",
            "_________________________________________________________________\n",
            "conv2d_3 (Conv2D)            (None, 16, 16, 64)        36928     \n",
            "_________________________________________________________________\n",
            "batch_normalization_3 (Batch (None, 16, 16, 64)        256       \n",
            "_________________________________________________________________\n",
            "max_pooling2d_1 (MaxPooling2 (None, 8, 8, 64)          0         \n",
            "_________________________________________________________________\n",
            "conv2d_4 (Conv2D)            (None, 8, 8, 128)         73856     \n",
            "_________________________________________________________________\n",
            "batch_normalization_4 (Batch (None, 8, 8, 128)         512       \n",
            "_________________________________________________________________\n",
            "conv2d_5 (Conv2D)            (None, 8, 8, 128)         147584    \n",
            "_________________________________________________________________\n",
            "batch_normalization_5 (Batch (None, 8, 8, 128)         512       \n",
            "_________________________________________________________________\n",
            "max_pooling2d_2 (MaxPooling2 (None, 4, 4, 128)         0         \n",
            "_________________________________________________________________\n",
            "flatten (Flatten)            (None, 2048)              0         \n",
            "_________________________________________________________________\n",
            "dropout (Dropout)            (None, 2048)              0         \n",
            "_________________________________________________________________\n",
            "dense (Dense)                (None, 1024)              2098176   \n",
            "_________________________________________________________________\n",
            "dropout_1 (Dropout)          (None, 1024)              0         \n",
            "_________________________________________________________________\n",
            "dense_1 (Dense)              (None, 10)                10250     \n",
            "=================================================================\n",
            "Total params: 2,397,226\n",
            "Trainable params: 2,396,330\n",
            "Non-trainable params: 896\n",
            "_________________________________________________________________\n"
          ],
          "name": "stdout"
        }
      ]
    },
    {
      "cell_type": "code",
      "metadata": {
        "id": "QlaUYTrxl6Ff",
        "colab_type": "code",
        "colab": {}
      },
      "source": [
        ""
      ],
      "execution_count": 0,
      "outputs": []
    }
  ]
}